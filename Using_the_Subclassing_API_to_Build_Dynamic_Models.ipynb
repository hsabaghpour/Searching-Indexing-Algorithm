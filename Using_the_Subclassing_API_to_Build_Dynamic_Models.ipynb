{
  "nbformat": 4,
  "nbformat_minor": 0,
  "metadata": {
    "colab": {
      "provenance": [],
      "authorship_tag": "ABX9TyNa9LRc2HXBmfpnYM4XEznq",
      "include_colab_link": true
    },
    "kernelspec": {
      "name": "python3",
      "display_name": "Python 3"
    },
    "language_info": {
      "name": "python"
    }
  },
  "cells": [
    {
      "cell_type": "markdown",
      "metadata": {
        "id": "view-in-github",
        "colab_type": "text"
      },
      "source": [
        "<a href=\"https://colab.research.google.com/github/hsabaghpour/Searching-Indexing-Algorithm/blob/main/Using_the_Subclassing_API_to_Build_Dynamic_Models.ipynb\" target=\"_parent\"><img src=\"https://colab.research.google.com/assets/colab-badge.svg\" alt=\"Open In Colab\"/></a>"
      ]
    },
    {
      "cell_type": "markdown",
      "source": [
        "The Subclassing API in Keras allows you to build dynamic models in a more flexible and imperative programming style. Instead of declaring the model's architecture, you create it by defining layers and computations in a subclass of the Model class. This approach is useful for complex models with loops, varying shapes, and other dynamic behaviors. It's a more hands-on way of building models compared to the declarative Sequential and Functional APIs.\n",
        "\n",
        "\n",
        "\n",
        "\n"
      ],
      "metadata": {
        "id": "Yi8W4bj62Vny"
      }
    },
    {
      "cell_type": "code",
      "execution_count": 2,
      "metadata": {
        "id": "9E5_kNe92EZU"
      },
      "outputs": [],
      "source": [
        "import tensorflow as tf\n",
        "\n",
        "class WideAndDeepModel(tf.keras.Model):\n",
        "    def __init__(self, units=30, activation=\"relu\", **kwargs):\n",
        "        super().__init__(**kwargs)  # needed to support naming the model\n",
        "        self.norm_layer_wide = tf.keras.layers.Normalization()\n",
        "        self.norm_layer_deep = tf.keras.layers.Normalization()\n",
        "        self.hidden1 = tf.keras.layers.Dense(units, activation=activation)\n",
        "        self.hidden2 = tf.keras.layers.Dense(units, activation=activation)\n",
        "        self.main_output = tf.keras.layers.Dense(1)\n",
        "        self.aux_output = tf.keras.layers.Dense(1)\n",
        "\n",
        "    def call(self, inputs):\n",
        "        input_wide, input_deep = inputs\n",
        "        norm_wide = self.norm_layer_wide(input_wide)\n",
        "        norm_deep = self.norm_layer_deep(input_deep)\n",
        "        hidden1 = self.hidden1(norm_deep)\n",
        "        hidden2 = self.hidden2(hidden1)\n",
        "        concat = tf.keras.layers.concatenate([norm_wide, hidden2])\n",
        "        output = self.main_output(concat)\n",
        "        aux_output = self.aux_output(hidden2)\n",
        "        return output, aux_output\n",
        "\n",
        "model = WideAndDeepModel(30, activation=\"relu\", name=\"my_cool_model\")"
      ]
    },
    {
      "cell_type": "markdown",
      "source": [
        "In this code, a custom neural network model is created using TensorFlow's Subclassing API. The model, named \"WideAndDeepModel,\" is a wide and deep neural network. Here's a summary:\n",
        "\n",
        "The WideAndDeepModel class is defined, which subclasses tf.keras.Model. This class represents a custom neural network.\n",
        "\n",
        "In the constructor __init__, you can customize the architecture of the model. It includes:\n",
        "\n",
        "Normalization layers for the wide and deep parts of the network.\n",
        "Two hidden layers with specified units and activation function (ReLU).\n",
        "Two output layers: main_output and aux_output, both with one neuron.\n",
        "The call method defines how the data flows through the model:\n",
        "\n",
        "It takes two inputs, input_wide and input_deep.\n",
        "Each input is normalized separately using the normalization layers.\n",
        "The deep input is passed through the hidden layers.\n",
        "The outputs are concatenated to combine the wide and deep parts.\n",
        "Final predictions are made by passing this concatenated data through the main_output and aux_output layers.\n",
        "An instance of the WideAndDeepModel class is created with specific configuration (30 units and ReLU activation) and named \"my_cool_model.\"\n",
        "\n",
        "This code provides an example of creating a complex custom model using TensorFlow's Subclassing API, which offers flexibility for building models with dynamic behaviors.\n",
        "\n",
        "\n",
        "\n",
        "\n",
        "\n",
        "\n"
      ],
      "metadata": {
        "id": "SlSs403B3k2R"
      }
    },
    {
      "cell_type": "markdown",
      "source": [],
      "metadata": {
        "id": "7TvYhE0w3mdp"
      }
    }
  ]
}