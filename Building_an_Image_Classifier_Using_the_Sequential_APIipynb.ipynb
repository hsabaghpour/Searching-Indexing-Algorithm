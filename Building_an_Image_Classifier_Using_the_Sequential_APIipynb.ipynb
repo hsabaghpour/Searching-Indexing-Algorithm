{
  "nbformat": 4,
  "nbformat_minor": 0,
  "metadata": {
    "colab": {
      "provenance": [],
      "authorship_tag": "ABX9TyOQd8WOcr/T6E10UEN+WEO0",
      "include_colab_link": true
    },
    "kernelspec": {
      "name": "python3",
      "display_name": "Python 3"
    },
    "language_info": {
      "name": "python"
    }
  },
  "cells": [
    {
      "cell_type": "markdown",
      "metadata": {
        "id": "view-in-github",
        "colab_type": "text"
      },
      "source": [
        "<a href=\"https://colab.research.google.com/github/hsabaghpour/Searching-Indexing-Algorithm/blob/main/Building_an_Image_Classifier_Using_the_Sequential_APIipynb.ipynb\" target=\"_parent\"><img src=\"https://colab.research.google.com/assets/colab-badge.svg\" alt=\"Open In Colab\"/></a>"
      ]
    },
    {
      "cell_type": "code",
      "execution_count": 2,
      "metadata": {
        "id": "NlIkrM4e4wr7"
      },
      "outputs": [],
      "source": [
        "#Using Keras to load the dataset\n",
        "\n",
        "import tensorflow as tf\n",
        "\n",
        "fashion_mnist = tf.keras.datasets.fashion_mnist.load_data()\n",
        "(X_train_full, y_train_full), (X_test, y_test) = fashion_mnist\n",
        "X_train, y_train = X_train_full[:-5000], y_train_full[:-5000]\n",
        "X_valid, y_valid = X_train_full[-5000:], y_train_full[-5000:]\n"
      ]
    },
    {
      "cell_type": "code",
      "source": [
        "X_train.shape"
      ],
      "metadata": {
        "colab": {
          "base_uri": "https://localhost:8080/"
        },
        "id": "Thuwz9U05VHV",
        "outputId": "f3b306d5-e390-47c3-b01b-ee91107e598c"
      },
      "execution_count": 3,
      "outputs": [
        {
          "output_type": "execute_result",
          "data": {
            "text/plain": [
              "(55000, 28, 28)"
            ]
          },
          "metadata": {},
          "execution_count": 3
        }
      ]
    },
    {
      "cell_type": "code",
      "source": [
        "X_train.dtype"
      ],
      "metadata": {
        "colab": {
          "base_uri": "https://localhost:8080/"
        },
        "id": "pfWz9NuD86Re",
        "outputId": "591c9b94-7eba-4ef1-af4b-203eda96b5e3"
      },
      "execution_count": 4,
      "outputs": [
        {
          "output_type": "execute_result",
          "data": {
            "text/plain": [
              "dtype('uint8')"
            ]
          },
          "metadata": {},
          "execution_count": 4
        }
      ]
    },
    {
      "cell_type": "code",
      "source": [
        "#For simplicity, we’ll scale the pixel intensities down to the 0–1 range by dividing them by 255.0 (this also converts them to floats):\n",
        "\n",
        "X_train, X_valid, X_test = X_train / 255., X_valid / 255., X_test / 255.\n"
      ],
      "metadata": {
        "id": "J3xL0u7h9PfF"
      },
      "execution_count": 5,
      "outputs": []
    },
    {
      "cell_type": "code",
      "source": [
        "#With MNIST, when the label is equal to 5, it means that the image represents the handwritten digit 5. Easy. For Fashion MNIST, however, we need the list of class names to know what we are dealing with:\n",
        "\n",
        "class_names = [\"T-shirt/top\", \"Trouser\", \"Pullover\", \"Dress\", \"Coat\",\n",
        "               \"Sandal\", \"Shirt\", \"Sneaker\", \"Bag\", \"Ankle boot\"]\n"
      ],
      "metadata": {
        "id": "8Pu7iqgn9Z_Z"
      },
      "execution_count": 7,
      "outputs": []
    },
    {
      "cell_type": "code",
      "source": [
        "class_names[y_train[0]]\n"
      ],
      "metadata": {
        "colab": {
          "base_uri": "https://localhost:8080/",
          "height": 35
        },
        "id": "vi1y1uAwBuNL",
        "outputId": "ae110222-b9b1-409c-d79e-7fb134d23d15"
      },
      "execution_count": 8,
      "outputs": [
        {
          "output_type": "execute_result",
          "data": {
            "text/plain": [
              "'Ankle boot'"
            ],
            "application/vnd.google.colaboratory.intrinsic+json": {
              "type": "string"
            }
          },
          "metadata": {},
          "execution_count": 8
        }
      ]
    },
    {
      "cell_type": "markdown",
      "source": [
        "Creating the model using the sequential API\n"
      ],
      "metadata": {
        "id": "cV9ZuDV7CKvC"
      }
    },
    {
      "cell_type": "code",
      "source": [
        "#Now let’s build the neural network! Here is a classification MLP with two hidden layers:\n",
        "\n",
        "tf.random.set_seed(42)\n",
        "model = tf.keras.Sequential()\n",
        "model.add(tf.keras.layers.Input(shape=[28, 28]))\n",
        "model.add(tf.keras.layers.Flatten())\n",
        "model.add(tf.keras.layers.Dense(300, activation=\"relu\"))\n",
        "model.add(tf.keras.layers.Dense(100, activation=\"relu\"))\n",
        "model.add(tf.keras.layers.Dense(10, activation=\"softmax\"))\n"
      ],
      "metadata": {
        "id": "hXeiKCmWCNTb"
      },
      "execution_count": 9,
      "outputs": []
    },
    {
      "cell_type": "markdown",
      "source": [
        "The code sets the random seed for TensorFlow and defines a feedforward neural network model using the Keras Sequential API with an input layer (28x28), a flatten layer, and two dense layers with ReLU activation functions, followed by an output layer with softmax activation for multiclass classification.\n"
      ],
      "metadata": {
        "id": "Vz9V6RnLEjjT"
      }
    },
    {
      "cell_type": "code",
      "source": [
        "# Simplified version of above code\n",
        "\"\"\"\n",
        "model = tf.keras.Sequential([\n",
        "    tf.keras.layers.Flatten(input_shape=[28, 28]),\n",
        "    tf.keras.layers.Dense(300, activation=\"relu\"),\n",
        "    tf.keras.layers.Dense(100, activation=\"relu\"),\n",
        "    tf.keras.layers.Dense(10, activation=\"softmax\")\n",
        "])\n",
        "\"\"\"\n",
        "\n"
      ],
      "metadata": {
        "id": "SvC_EbnoEsTI"
      },
      "execution_count": null,
      "outputs": []
    },
    {
      "cell_type": "code",
      "source": [
        "model.summary()"
      ],
      "metadata": {
        "colab": {
          "base_uri": "https://localhost:8080/"
        },
        "id": "QL0p0O9uHv2Y",
        "outputId": "8769d7f5-44d4-4cc5-fa16-afa72011a57a"
      },
      "execution_count": 11,
      "outputs": [
        {
          "output_type": "stream",
          "name": "stdout",
          "text": [
            "Model: \"sequential\"\n",
            "_________________________________________________________________\n",
            " Layer (type)                Output Shape              Param #   \n",
            "=================================================================\n",
            " flatten (Flatten)           (None, 784)               0         \n",
            "                                                                 \n",
            " dense (Dense)               (None, 300)               235500    \n",
            "                                                                 \n",
            " dense_1 (Dense)             (None, 100)               30100     \n",
            "                                                                 \n",
            " dense_2 (Dense)             (None, 10)                1010      \n",
            "                                                                 \n",
            "=================================================================\n",
            "Total params: 266610 (1.02 MB)\n",
            "Trainable params: 266610 (1.02 MB)\n",
            "Non-trainable params: 0 (0.00 Byte)\n",
            "_________________________________________________________________\n"
          ]
        }
      ]
    },
    {
      "cell_type": "code",
      "source": [
        "model.layers"
      ],
      "metadata": {
        "colab": {
          "base_uri": "https://localhost:8080/"
        },
        "id": "8Tys4B-eH3uM",
        "outputId": "840105ad-d993-4418-fef5-7b7efda2b92d"
      },
      "execution_count": 14,
      "outputs": [
        {
          "output_type": "execute_result",
          "data": {
            "text/plain": [
              "[<keras.src.layers.reshaping.flatten.Flatten at 0x7d99e42e36a0>,\n",
              " <keras.src.layers.core.dense.Dense at 0x7d99e3871000>,\n",
              " <keras.src.layers.core.dense.Dense at 0x7d99e3871270>,\n",
              " <keras.src.layers.core.dense.Dense at 0x7d99e3871420>]"
            ]
          },
          "metadata": {},
          "execution_count": 14
        }
      ]
    },
    {
      "cell_type": "code",
      "source": [
        "hidden1 = model.layers[1]\n",
        "hidden1.name\n"
      ],
      "metadata": {
        "colab": {
          "base_uri": "https://localhost:8080/",
          "height": 35
        },
        "id": "zb1nR2uoI-vh",
        "outputId": "59fe7826-b76d-4199-f10f-0a68b154a0cb"
      },
      "execution_count": 15,
      "outputs": [
        {
          "output_type": "execute_result",
          "data": {
            "text/plain": [
              "'dense'"
            ],
            "application/vnd.google.colaboratory.intrinsic+json": {
              "type": "string"
            }
          },
          "metadata": {},
          "execution_count": 15
        }
      ]
    },
    {
      "cell_type": "code",
      "source": [
        "model.get_layer('dense') is hidden1\n"
      ],
      "metadata": {
        "colab": {
          "base_uri": "https://localhost:8080/"
        },
        "id": "rfbepLYKJExN",
        "outputId": "ea3cbce0-dbe4-4ab5-d237-e1265199fa2f"
      },
      "execution_count": 16,
      "outputs": [
        {
          "output_type": "execute_result",
          "data": {
            "text/plain": [
              "True"
            ]
          },
          "metadata": {},
          "execution_count": 16
        }
      ]
    },
    {
      "cell_type": "code",
      "source": [
        "weights, biases = hidden1.get_weights()\n",
        "weights\n"
      ],
      "metadata": {
        "colab": {
          "base_uri": "https://localhost:8080/"
        },
        "id": "pzsSSvrZJXJQ",
        "outputId": "ec15d075-5a28-42ac-f846-e349d8a11a31"
      },
      "execution_count": 17,
      "outputs": [
        {
          "output_type": "execute_result",
          "data": {
            "text/plain": [
              "array([[-0.04454736, -0.01947237, -0.0442072 , ...,  0.04814859,\n",
              "        -0.05702312,  0.07048927],\n",
              "       [-0.01763476, -0.02072078, -0.01736486, ...,  0.04727752,\n",
              "        -0.07216632,  0.07162979],\n",
              "       [-0.06642126,  0.02251531, -0.03763724, ..., -0.03823994,\n",
              "        -0.00206369,  0.04888815],\n",
              "       ...,\n",
              "       [ 0.05328277, -0.04178808,  0.03204572, ...,  0.02063376,\n",
              "         0.07346779, -0.06772433],\n",
              "       [-0.06612587,  0.05696163,  0.0583993 , ...,  0.06591597,\n",
              "        -0.02526422, -0.01151064],\n",
              "       [-0.04644927,  0.04536678,  0.02248168, ..., -0.05663675,\n",
              "         0.07373953,  0.03687838]], dtype=float32)"
            ]
          },
          "metadata": {},
          "execution_count": 17
        }
      ]
    },
    {
      "cell_type": "code",
      "source": [
        "weights.shape"
      ],
      "metadata": {
        "colab": {
          "base_uri": "https://localhost:8080/"
        },
        "id": "nFni4bKNJbWg",
        "outputId": "d7bb95fa-c88e-4379-bbea-2fce7bac9020"
      },
      "execution_count": 18,
      "outputs": [
        {
          "output_type": "execute_result",
          "data": {
            "text/plain": [
              "(784, 300)"
            ]
          },
          "metadata": {},
          "execution_count": 18
        }
      ]
    },
    {
      "cell_type": "code",
      "source": [
        "biases"
      ],
      "metadata": {
        "colab": {
          "base_uri": "https://localhost:8080/"
        },
        "id": "OBxRNZ7YJjnS",
        "outputId": "fcbbb450-02ef-4887-d665-d0e36efcb772"
      },
      "execution_count": 19,
      "outputs": [
        {
          "output_type": "execute_result",
          "data": {
            "text/plain": [
              "array([0., 0., 0., 0., 0., 0., 0., 0., 0., 0., 0., 0., 0., 0., 0., 0., 0.,\n",
              "       0., 0., 0., 0., 0., 0., 0., 0., 0., 0., 0., 0., 0., 0., 0., 0., 0.,\n",
              "       0., 0., 0., 0., 0., 0., 0., 0., 0., 0., 0., 0., 0., 0., 0., 0., 0.,\n",
              "       0., 0., 0., 0., 0., 0., 0., 0., 0., 0., 0., 0., 0., 0., 0., 0., 0.,\n",
              "       0., 0., 0., 0., 0., 0., 0., 0., 0., 0., 0., 0., 0., 0., 0., 0., 0.,\n",
              "       0., 0., 0., 0., 0., 0., 0., 0., 0., 0., 0., 0., 0., 0., 0., 0., 0.,\n",
              "       0., 0., 0., 0., 0., 0., 0., 0., 0., 0., 0., 0., 0., 0., 0., 0., 0.,\n",
              "       0., 0., 0., 0., 0., 0., 0., 0., 0., 0., 0., 0., 0., 0., 0., 0., 0.,\n",
              "       0., 0., 0., 0., 0., 0., 0., 0., 0., 0., 0., 0., 0., 0., 0., 0., 0.,\n",
              "       0., 0., 0., 0., 0., 0., 0., 0., 0., 0., 0., 0., 0., 0., 0., 0., 0.,\n",
              "       0., 0., 0., 0., 0., 0., 0., 0., 0., 0., 0., 0., 0., 0., 0., 0., 0.,\n",
              "       0., 0., 0., 0., 0., 0., 0., 0., 0., 0., 0., 0., 0., 0., 0., 0., 0.,\n",
              "       0., 0., 0., 0., 0., 0., 0., 0., 0., 0., 0., 0., 0., 0., 0., 0., 0.,\n",
              "       0., 0., 0., 0., 0., 0., 0., 0., 0., 0., 0., 0., 0., 0., 0., 0., 0.,\n",
              "       0., 0., 0., 0., 0., 0., 0., 0., 0., 0., 0., 0., 0., 0., 0., 0., 0.,\n",
              "       0., 0., 0., 0., 0., 0., 0., 0., 0., 0., 0., 0., 0., 0., 0., 0., 0.,\n",
              "       0., 0., 0., 0., 0., 0., 0., 0., 0., 0., 0., 0., 0., 0., 0., 0., 0.,\n",
              "       0., 0., 0., 0., 0., 0., 0., 0., 0., 0., 0.], dtype=float32)"
            ]
          },
          "metadata": {},
          "execution_count": 19
        }
      ]
    },
    {
      "cell_type": "code",
      "source": [
        "biases.shape"
      ],
      "metadata": {
        "colab": {
          "base_uri": "https://localhost:8080/"
        },
        "id": "PNQgBadMJu04",
        "outputId": "3cb206bd-1464-4b2a-ec76-de38cced0728"
      },
      "execution_count": 20,
      "outputs": [
        {
          "output_type": "execute_result",
          "data": {
            "text/plain": [
              "(300,)"
            ]
          },
          "metadata": {},
          "execution_count": 20
        }
      ]
    },
    {
      "cell_type": "code",
      "source": [
        "#Compiling the model\n",
        "\n",
        "#After a model is created, you must call its compile() method to specify the loss function and the optimizer to use. Optionally, you can specify a list of extra metrics to compute during training and evaluation:\n",
        "\n",
        "model.compile(loss=\"sparse_categorical_crossentropy\",\n",
        "              optimizer=\"sgd\",\n",
        "              metrics=[\"accuracy\"])"
      ],
      "metadata": {
        "id": "o6r5OMfqJyIM"
      },
      "execution_count": 21,
      "outputs": []
    },
    {
      "cell_type": "markdown",
      "source": [
        "Loss function: \"sparse_categorical_crossentropy\" for measuring how well the model performs in multiclass classification.\n",
        "Optimizer: \"sgd\" (Stochastic Gradient Descent) as the training algorithm.\n",
        "Metrics: It tracks the accuracy of the model's predictions during training.\n",
        "\n",
        "\n",
        "\n"
      ],
      "metadata": {
        "id": "-Kwj1FPwTsnx"
      }
    },
    {
      "cell_type": "code",
      "source": [
        "#Training and evaluating the model\n",
        "\n",
        "history = model.fit(X_train, y_train, epochs=30,validation_data=(X_valid, y_valid))"
      ],
      "metadata": {
        "colab": {
          "base_uri": "https://localhost:8080/"
        },
        "id": "y92229T_TuW6",
        "outputId": "08659155-bd7e-4ad1-8e1c-d098c3912e73"
      },
      "execution_count": 22,
      "outputs": [
        {
          "output_type": "stream",
          "name": "stdout",
          "text": [
            "Epoch 1/30\n",
            "1719/1719 [==============================] - 8s 4ms/step - loss: 0.7156 - accuracy: 0.7642 - val_loss: 0.5046 - val_accuracy: 0.8288\n",
            "Epoch 2/30\n",
            "1719/1719 [==============================] - 8s 5ms/step - loss: 0.4867 - accuracy: 0.8305 - val_loss: 0.4678 - val_accuracy: 0.8302\n",
            "Epoch 3/30\n",
            "1719/1719 [==============================] - 7s 4ms/step - loss: 0.4404 - accuracy: 0.8454 - val_loss: 0.4221 - val_accuracy: 0.8510\n",
            "Epoch 4/30\n",
            "1719/1719 [==============================] - 7s 4ms/step - loss: 0.4157 - accuracy: 0.8546 - val_loss: 0.3962 - val_accuracy: 0.8576\n",
            "Epoch 5/30\n",
            "1719/1719 [==============================] - 8s 5ms/step - loss: 0.3953 - accuracy: 0.8614 - val_loss: 0.3974 - val_accuracy: 0.8622\n",
            "Epoch 6/30\n",
            "1719/1719 [==============================] - 6s 4ms/step - loss: 0.3795 - accuracy: 0.8664 - val_loss: 0.3957 - val_accuracy: 0.8624\n",
            "Epoch 7/30\n",
            "1719/1719 [==============================] - 8s 4ms/step - loss: 0.3665 - accuracy: 0.8702 - val_loss: 0.3744 - val_accuracy: 0.8694\n",
            "Epoch 8/30\n",
            "1719/1719 [==============================] - 8s 5ms/step - loss: 0.3552 - accuracy: 0.8746 - val_loss: 0.3745 - val_accuracy: 0.8648\n",
            "Epoch 9/30\n",
            "1719/1719 [==============================] - 8s 4ms/step - loss: 0.3440 - accuracy: 0.8784 - val_loss: 0.3528 - val_accuracy: 0.8772\n",
            "Epoch 10/30\n",
            "1719/1719 [==============================] - 9s 5ms/step - loss: 0.3341 - accuracy: 0.8810 - val_loss: 0.3567 - val_accuracy: 0.8760\n",
            "Epoch 11/30\n",
            "1719/1719 [==============================] - 7s 4ms/step - loss: 0.3255 - accuracy: 0.8840 - val_loss: 0.3650 - val_accuracy: 0.8694\n",
            "Epoch 12/30\n",
            "1719/1719 [==============================] - 8s 5ms/step - loss: 0.3174 - accuracy: 0.8865 - val_loss: 0.3511 - val_accuracy: 0.8740\n",
            "Epoch 13/30\n",
            "1719/1719 [==============================] - 7s 4ms/step - loss: 0.3102 - accuracy: 0.8898 - val_loss: 0.3321 - val_accuracy: 0.8814\n",
            "Epoch 14/30\n",
            "1719/1719 [==============================] - 8s 4ms/step - loss: 0.3028 - accuracy: 0.8919 - val_loss: 0.3434 - val_accuracy: 0.8804\n",
            "Epoch 15/30\n",
            "1719/1719 [==============================] - 7s 4ms/step - loss: 0.2968 - accuracy: 0.8944 - val_loss: 0.3392 - val_accuracy: 0.8808\n",
            "Epoch 16/30\n",
            "1719/1719 [==============================] - 7s 4ms/step - loss: 0.2896 - accuracy: 0.8961 - val_loss: 0.3299 - val_accuracy: 0.8820\n",
            "Epoch 17/30\n",
            "1719/1719 [==============================] - 8s 5ms/step - loss: 0.2846 - accuracy: 0.8970 - val_loss: 0.3346 - val_accuracy: 0.8776\n",
            "Epoch 18/30\n",
            "1719/1719 [==============================] - 8s 5ms/step - loss: 0.2788 - accuracy: 0.9006 - val_loss: 0.3271 - val_accuracy: 0.8814\n",
            "Epoch 19/30\n",
            "1719/1719 [==============================] - 8s 4ms/step - loss: 0.2734 - accuracy: 0.9016 - val_loss: 0.3607 - val_accuracy: 0.8664\n",
            "Epoch 20/30\n",
            "1719/1719 [==============================] - 6s 4ms/step - loss: 0.2687 - accuracy: 0.9039 - val_loss: 0.3221 - val_accuracy: 0.8818\n",
            "Epoch 21/30\n",
            "1719/1719 [==============================] - 8s 5ms/step - loss: 0.2635 - accuracy: 0.9056 - val_loss: 0.3149 - val_accuracy: 0.8868\n",
            "Epoch 22/30\n",
            "1719/1719 [==============================] - 8s 4ms/step - loss: 0.2584 - accuracy: 0.9066 - val_loss: 0.3182 - val_accuracy: 0.8818\n",
            "Epoch 23/30\n",
            "1719/1719 [==============================] - 7s 4ms/step - loss: 0.2543 - accuracy: 0.9086 - val_loss: 0.3479 - val_accuracy: 0.8738\n",
            "Epoch 24/30\n",
            "1719/1719 [==============================] - 8s 4ms/step - loss: 0.2490 - accuracy: 0.9103 - val_loss: 0.3238 - val_accuracy: 0.8828\n",
            "Epoch 25/30\n",
            "1719/1719 [==============================] - 7s 4ms/step - loss: 0.2450 - accuracy: 0.9123 - val_loss: 0.3177 - val_accuracy: 0.8850\n",
            "Epoch 26/30\n",
            "1719/1719 [==============================] - 8s 4ms/step - loss: 0.2412 - accuracy: 0.9139 - val_loss: 0.3166 - val_accuracy: 0.8848\n",
            "Epoch 27/30\n",
            "1719/1719 [==============================] - 7s 4ms/step - loss: 0.2362 - accuracy: 0.9152 - val_loss: 0.3196 - val_accuracy: 0.8862\n",
            "Epoch 28/30\n",
            "1719/1719 [==============================] - 8s 5ms/step - loss: 0.2333 - accuracy: 0.9168 - val_loss: 0.3117 - val_accuracy: 0.8866\n",
            "Epoch 29/30\n",
            "1719/1719 [==============================] - 8s 4ms/step - loss: 0.2291 - accuracy: 0.9172 - val_loss: 0.3231 - val_accuracy: 0.8834\n",
            "Epoch 30/30\n",
            "1719/1719 [==============================] - 7s 4ms/step - loss: 0.2257 - accuracy: 0.9204 - val_loss: 0.3097 - val_accuracy: 0.8878\n"
          ]
        }
      ]
    },
    {
      "cell_type": "code",
      "source": [
        "\n",
        "\n",
        "import matplotlib.pyplot as plt\n",
        "import pandas as pd\n",
        "\n",
        "pd.DataFrame(history.history).plot(\n",
        "    figsize=(8, 5), xlim=[0, 29], ylim=[0, 1], grid=True, xlabel=\"Epoch\",\n",
        "    style=[\"r--\", \"r--.\", \"b-\", \"b-*\"])\n",
        "plt.show()\n"
      ],
      "metadata": {
        "colab": {
          "base_uri": "https://localhost:8080/",
          "height": 470
        },
        "id": "Nx49k3-bX1qk",
        "outputId": "a5140b74-d64c-4441-d175-42ce205d3aa8"
      },
      "execution_count": 23,
      "outputs": [
        {
          "output_type": "display_data",
          "data": {
            "text/plain": [
              "<Figure size 800x500 with 1 Axes>"
            ],
            "image/png": "[encoded data removed]"
          },
          "metadata": {}
        }
      ]
    },
    {
      "cell_type": "code",
      "source": [
        "model.evaluate(X_test, y_test)\n"
      ],
      "metadata": {
        "colab": {
          "base_uri": "https://localhost:8080/"
        },
        "id": "2DjZZI7mY3e_",
        "outputId": "87137778-d304-4176-9288-c5ee3e138fb5"
      },
      "execution_count": 24,
      "outputs": [
        {
          "output_type": "stream",
          "name": "stdout",
          "text": [
            "313/313 [==============================] - 1s 2ms/step - loss: 0.3254 - accuracy: 0.8840\n"
          ]
        },
        {
          "output_type": "execute_result",
          "data": {
            "text/plain": [
              "[0.3254082500934601, 0.8840000033378601]"
            ]
          },
          "metadata": {},
          "execution_count": 24
        }
      ]
    },
    {
      "cell_type": "code",
      "source": [
        "#Using the model to make predictions\n",
        "\n",
        "X_new = X_test[:3]\n",
        "y_proba = model.predict(X_new)\n",
        "y_proba.round(2)\n"
      ],
      "metadata": {
        "colab": {
          "base_uri": "https://localhost:8080/"
        },
        "id": "ugXvHW0yZcDX",
        "outputId": "e755ed7e-38c1-4f4b-b079-c9d64bc29ac2"
      },
      "execution_count": 25,
      "outputs": [
        {
          "output_type": "stream",
          "name": "stdout",
          "text": [
            "1/1 [==============================] - 0s 99ms/step\n"
          ]
        },
        {
          "output_type": "execute_result",
          "data": {
            "text/plain": [
              "array([[0.  , 0.  , 0.  , 0.  , 0.  , 0.01, 0.  , 0.02, 0.  , 0.97],\n",
              "       [0.  , 0.  , 1.  , 0.  , 0.  , 0.  , 0.  , 0.  , 0.  , 0.  ],\n",
              "       [0.  , 1.  , 0.  , 0.  , 0.  , 0.  , 0.  , 0.  , 0.  , 0.  ]],\n",
              "      dtype=float32)"
            ]
          },
          "metadata": {},
          "execution_count": 25
        }
      ]
    },
    {
      "cell_type": "code",
      "source": [
        "#If you only care about the class with the highest estimated probability (even if that probability is quite low), then you can use the argmax() method to get the highest probability class index for each instance:\n",
        "\n",
        "\n",
        "import numpy as np\n",
        "y_pred = y_proba.argmax(axis=-1)\n",
        "y_pred\n"
      ],
      "metadata": {
        "colab": {
          "base_uri": "https://localhost:8080/"
        },
        "id": "ap1VyFoyZv00",
        "outputId": "863eefc8-aa00-422b-b8be-37a849c9a184"
      },
      "execution_count": 26,
      "outputs": [
        {
          "output_type": "execute_result",
          "data": {
            "text/plain": [
              "array([9, 2, 1])"
            ]
          },
          "metadata": {},
          "execution_count": 26
        }
      ]
    },
    {
      "cell_type": "code",
      "source": [
        "np.array(class_names)[y_pred]"
      ],
      "metadata": {
        "colab": {
          "base_uri": "https://localhost:8080/"
        },
        "id": "XUMVHl6YaxZy",
        "outputId": "c91874e7-9a6f-41d9-9d49-bc18113f0a57"
      },
      "execution_count": 27,
      "outputs": [
        {
          "output_type": "execute_result",
          "data": {
            "text/plain": [
              "array(['Ankle boot', 'Pullover', 'Trouser'], dtype='<U11')"
            ]
          },
          "metadata": {},
          "execution_count": 27
        }
      ]
    },
    {
      "cell_type": "code",
      "source": [
        "#Here, the classifier actually classified all three images correctly\n",
        "\n",
        "y_new = y_test[:3]\n",
        "y_new\n",
        "\n",
        "\n"
      ],
      "metadata": {
        "colab": {
          "base_uri": "https://localhost:8080/"
        },
        "id": "ccfjQLfwa_8U",
        "outputId": "68ab095b-61e3-4974-f72c-3226e10c2840"
      },
      "execution_count": 28,
      "outputs": [
        {
          "output_type": "execute_result",
          "data": {
            "text/plain": [
              "array([9, 2, 1], dtype=uint8)"
            ]
          },
          "metadata": {},
          "execution_count": 28
        }
      ]
    }
  ]
}